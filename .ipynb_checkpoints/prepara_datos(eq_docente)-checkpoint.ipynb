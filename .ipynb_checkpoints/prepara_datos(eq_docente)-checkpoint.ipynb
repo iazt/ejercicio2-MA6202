{
 "cells": [
  {
   "cell_type": "code",
   "execution_count": null,
   "metadata": {},
   "outputs": [],
   "source": [
    "import pandas as pd\n",
    "import numpy as np\n",
    "import seaborn as sns\n",
    "import matplotlib.pyplot as plt\n",
    "# import pymc3 as pm\n",
    "# import arviz as az\n",
    "import matplotlib.lines as mlines\n",
    "import pickle as pk\n",
    "# import warnings\n",
    "# warnings.filterwarnings('ignore')\n",
    "# from collections import OrderedDict\n",
    "# import theano\n",
    "# import theano.tensor as tt\n",
    "import itertools\n",
    "\n",
    "# from IPython.core.pylabtools import figsize\n",
    "pd.set_option('display.max_columns', 30)\n",
    "from sklearn.metrics import accuracy_score, f1_score, confusion_matrix\n",
    "from sklearn.model_selection import train_test_split\n",
    "\n",
    "from scipy import sparse "
   ]
  },
  {
   "cell_type": "code",
   "execution_count": null,
   "metadata": {},
   "outputs": [],
   "source": [
    "def cdisplay(*args):\n",
    "    '''\n",
    "    Wrapper for display function. It displays  all columns of DataFrame\n",
    "    objects present in `*args`\n",
    "    '''\n",
    "    old_n_columns = pd.get_option('display.max_columns')\n",
    "    pd.set_option('display.max_columns', None)\n",
    "    display(*args)\n",
    "    pd.set_option('display.max_columns', old_n_columns)\n"
   ]
  },
  {
   "cell_type": "markdown",
   "metadata": {},
   "source": [
    "# Graficos blog\n",
    "I. Bank client data:\n",
    "\n",
    "1. age: (numeric)   \n",
    "2. job: type of job (categorical: 'admin.','blue collar', 'entrepreneur', 'housemaid', 'management', 'retired', 'sel.employed', 'services', 'student', 'technician', 'unemployed', 'unknown')  \n",
    "3. marital: marital status (categorical: 'divorced','married','single','unknown'; note: 'divorced' means divorced or widowed)  \n",
    "4. education: (categorical: primary, secondary, tertiary and unknown)  \n",
    "5. default: has credit in default? (categorical: 'no','yes','unknown')  \n",
    "6. housing: has housing loan? (categorical: 'no','yes','unknown')  \n",
    "7. loan: has personal loan? (categorical: 'no','yes','unknown')  \n",
    "8. balance: Balance of the individual.  \n",
    "    \n",
    "II. Related with the last contact of the current campaign:  \n",
    "\n",
    "9. contact: contact communication type (categorical: 'cellular','telephone')  \n",
    "10. month: last contact month of year (categorical: 'jan', 'feb', 'mar', ..., 'nov', 'dec')  \n",
    "11. day: last contact day of the week (categorical: 'mon','tue','wed','thu','fri')  \n",
    "12. duration: last contact duration, in seconds (numeric). Important note: this attribute highly affects the output target (e.g., if duration=0 then y='no'). Yet, the duration is not known before a call is performed. Also, after the end of the call y is obviously known. Thus, this input should only be included for benchmark purposes and should be discarded if the intention is to have a realistic predictive model.  \n",
    "13. campaign: number of contacts performed during this campaign and for this client (numeric, includes last contact)  \n",
    "\n",
    "III. Other attributes:\n",
    "\n",
    "14. pdays: number of days that passed by after the client was last contacted from a previous campaign (numeric; 999 means client was not previously contacted)  \n",
    "15. previous: number of contacts performed before this campaign and for this client (numeric)  \n",
    "16. poutcome: outcome of the previous marketing campaign (categorical: 'failure','nonexistent','success')\n",
    "\n",
    "17. y - has the client subscribed a term deposit? (binary: 'yes','no')"
   ]
  },
  {
   "cell_type": "code",
   "execution_count": null,
   "metadata": {},
   "outputs": [],
   "source": [
    "df = pd.read_csv('data/bank-marketing/bank.csv')\n",
    "df.shape"
   ]
  },
  {
   "cell_type": "code",
   "execution_count": null,
   "metadata": {},
   "outputs": [],
   "source": [
    "df.head()"
   ]
  },
  {
   "cell_type": "code",
   "execution_count": null,
   "metadata": {},
   "outputs": [],
   "source": [
    "sns.stripplot(x=\"deposit\", y=\"age\", data=df, jitter=True)\n",
    "plt.show();"
   ]
  },
  {
   "cell_type": "code",
   "execution_count": null,
   "metadata": {},
   "outputs": [],
   "source": [
    "df['education'].value_counts()"
   ]
  },
  {
   "cell_type": "code",
   "execution_count": null,
   "metadata": {},
   "outputs": [],
   "source": [
    "df['job'].value_counts()"
   ]
  },
  {
   "cell_type": "code",
   "execution_count": null,
   "metadata": {},
   "outputs": [],
   "source": [
    "df.poutcome.value_counts()"
   ]
  },
  {
   "cell_type": "code",
   "execution_count": null,
   "metadata": {},
   "outputs": [],
   "source": [
    "df['education'] = df['education'].astype('category')"
   ]
  },
  {
   "cell_type": "code",
   "execution_count": null,
   "metadata": {},
   "outputs": [],
   "source": [
    "sns.stripplot(x=\"deposit\", y=\"education\", data=df, jitter=True)\n",
    "plt.show();"
   ]
  },
  {
   "cell_type": "code",
   "execution_count": null,
   "metadata": {},
   "outputs": [],
   "source": [
    "df['job'] = df['job'].astype('category')"
   ]
  },
  {
   "cell_type": "code",
   "execution_count": null,
   "metadata": {},
   "outputs": [],
   "source": [
    "sns.stripplot(x=\"deposit\", y=\"job\", data=df, jitter=True)\n",
    "plt.show();"
   ]
  },
  {
   "cell_type": "code",
   "execution_count": null,
   "metadata": {},
   "outputs": [],
   "source": [
    "df.head(3)"
   ]
  },
  {
   "cell_type": "code",
   "execution_count": null,
   "metadata": {},
   "outputs": [],
   "source": [
    "t = set(['age', 'job', 'marital', 'education', 'default', 'housing', 'loan', 'contact', 'month', 'day_of_week', 'duration', 'campaign', 'pdays', 'previous', 'poutcome', 'euribor3m'])"
   ]
  },
  {
   "cell_type": "code",
   "execution_count": null,
   "metadata": {},
   "outputs": [],
   "source": [
    "s = set(df.columns.tolist())"
   ]
  },
  {
   "cell_type": "code",
   "execution_count": null,
   "metadata": {},
   "outputs": [],
   "source": [
    "t.difference(s)"
   ]
  },
  {
   "cell_type": "code",
   "execution_count": null,
   "metadata": {},
   "outputs": [],
   "source": [
    "df['contact'].value_counts()"
   ]
  },
  {
   "cell_type": "markdown",
   "metadata": {},
   "source": [
    "# Preliminares\n",
    "## Transformar datos"
   ]
  },
  {
   "cell_type": "code",
   "execution_count": null,
   "metadata": {},
   "outputs": [],
   "source": [
    "df = pd.read_csv('data/bank-marketing/bank.csv')"
   ]
  },
  {
   "cell_type": "markdown",
   "metadata": {},
   "source": [
    "### Categoricas"
   ]
  },
  {
   "cell_type": "code",
   "execution_count": null,
   "metadata": {},
   "outputs": [],
   "source": [
    "convert_cat = ['job', 'marital', 'education', 'poutcome', 'contact']\n",
    "\n",
    "cat_df = df.copy()\n",
    "for col in convert_cat:\n",
    "    cat_df[col] = cat_df[col].astype('category')\n",
    "\n",
    "cat_df['day_of_week'] = pd.to_datetime(\n",
    "    df.day.astype('str').str.cat(df.month, sep='-'), format='%d-%b'\n",
    ").dt.dayofweek.astype('category')\n",
    "cat_df['month'] = pd.to_datetime(cat_df['month'], format='%b').dt.month.astype('category')\n",
    "# cat_df['day'] = cat_df['day'].astype('category')\n",
    "cat_df['age'] = pd.cut(cat_df['age'], 10).cat.codes\n",
    "\n",
    "cat_df.drop('day', axis=1, inplace=True)"
   ]
  },
  {
   "cell_type": "markdown",
   "metadata": {},
   "source": [
    "decidi botar por intuición de que `'day'` no tiene importancia en el outcome, de cierta forma su información está contenida en `'day_of_week'`."
   ]
  },
  {
   "cell_type": "markdown",
   "metadata": {},
   "source": [
    "### Binarias"
   ]
  },
  {
   "cell_type": "code",
   "execution_count": null,
   "metadata": {},
   "outputs": [],
   "source": [
    "binary_cols = ['default', 'housing', 'loan', 'deposit']\n",
    "bin_df = cat_df.copy()\n",
    "\n",
    "for col in binary_cols:\n",
    "    display(bin_df[col].value_counts())\n",
    "\n"
   ]
  },
  {
   "cell_type": "code",
   "execution_count": null,
   "metadata": {},
   "outputs": [],
   "source": [
    "binary_cols = ['default', 'housing', 'loan', 'deposit']\n",
    "bin_df = cat_df.copy()\n",
    "\n",
    "for col in binary_cols:\n",
    "    bin_df[col] = (bin_df[col] == 'yes')\n",
    "\n"
   ]
  },
  {
   "cell_type": "code",
   "execution_count": null,
   "metadata": {},
   "outputs": [],
   "source": [
    "reg_df = bin_df.rename(columns={'deposit': 'outcome'})\n",
    "reg_df.info()"
   ]
  },
  {
   "cell_type": "markdown",
   "metadata": {},
   "source": [
    "## Explorar variables"
   ]
  },
  {
   "cell_type": "code",
   "execution_count": null,
   "metadata": {},
   "outputs": [],
   "source": [
    "reg_df.corr()['outcome'].sort_values(ascending=False)"
   ]
  },
  {
   "cell_type": "code",
   "execution_count": null,
   "metadata": {},
   "outputs": [],
   "source": [
    "reg_df['pdays'].value_counts()"
   ]
  },
  {
   "cell_type": "code",
   "execution_count": null,
   "metadata": {},
   "outputs": [],
   "source": [
    "((reg_df['pdays'] == -1) == (reg_df['previous'] == 0)).all()"
   ]
  },
  {
   "cell_type": "markdown",
   "metadata": {
    "lang": "en"
   },
   "source": [
    "pdays: number of days that passed by after the client was last contacted from a previous campaign (numeric; -1 means client was not previously contacted)\n",
    "previous: number of contacts performed before this campaign and for this client (numeric) "
   ]
  },
  {
   "cell_type": "markdown",
   "metadata": {
    "lang": "es"
   },
   "source": [
    "pdays: número de días que pasaron después de que el cliente fue contactado por última vez desde una campaña anterior (numérico; -1 significa que el cliente no fue contactado previamente)\n",
    "anterior: número de contactos realizados antes de esta campaña y para este cliente (numérico)"
   ]
  },
  {
   "cell_type": "markdown",
   "metadata": {},
   "source": [
    "incluimos la varible **never_contacted** para poder reemplazamos -1 por 0 ya que son clientes que nunca han sido contactados y no existe ninguna observación con ese valor."
   ]
  },
  {
   "cell_type": "code",
   "execution_count": null,
   "metadata": {},
   "outputs": [],
   "source": [
    "sns.countplot(x='pdays', data=reg_df[reg_df['pdays'] != -1])"
   ]
  },
  {
   "cell_type": "code",
   "execution_count": null,
   "metadata": {},
   "outputs": [],
   "source": [
    "sns.countplot(x='previous', data=reg_df[reg_df['previous'] != 0])"
   ]
  },
  {
   "cell_type": "code",
   "execution_count": null,
   "metadata": {},
   "outputs": [],
   "source": [
    "sns.countplot(x='campaign', data=reg_df[reg_df['campaign'] != 0])"
   ]
  },
  {
   "cell_type": "code",
   "execution_count": null,
   "metadata": {},
   "outputs": [],
   "source": [
    "reg_df.loc[reg_df['previous'] != 0, 'previous']"
   ]
  },
  {
   "cell_type": "code",
   "execution_count": null,
   "metadata": {},
   "outputs": [],
   "source": [
    "plot_srs = np.log(reg_df.loc[reg_df['previous'] != 0, 'previous'])\n",
    "\n",
    "sns.distplot(plot_srs)"
   ]
  },
  {
   "cell_type": "code",
   "execution_count": null,
   "metadata": {},
   "outputs": [],
   "source": [
    "sns.countplot(reg_df['campaign'])"
   ]
  },
  {
   "cell_type": "markdown",
   "metadata": {},
   "source": [
    "## Modificar variables"
   ]
  },
  {
   "cell_type": "markdown",
   "metadata": {},
   "source": [
    "**pdays** toma valor -1 cuando el cliente nunca ha sido contactado. Ese caso debería ir incluído en el coeficiente del intercepto por lo que reemplazamos las ocurrencias de `-1` por `0`."
   ]
  },
  {
   "cell_type": "code",
   "execution_count": null,
   "metadata": {},
   "outputs": [],
   "source": [
    "reg_df['pdays'] = reg_df['pdays'].replace(-1, 0)"
   ]
  },
  {
   "cell_type": "markdown",
   "metadata": {},
   "source": [
    "**Variables enteras**"
   ]
  },
  {
   "cell_type": "code",
   "execution_count": null,
   "metadata": {},
   "outputs": [],
   "source": [
    "int_std_cols = ['balance', 'duration']"
   ]
  },
  {
   "cell_type": "code",
   "execution_count": null,
   "metadata": {},
   "outputs": [],
   "source": [
    "for c in int_std_cols:\n",
    "    sns.distplot(reg_df[c])\n",
    "    plt.show()"
   ]
  },
  {
   "cell_type": "markdown",
   "metadata": {},
   "source": [
    "**duration** tiene un adistribución que se asemeja a log-normal por lo que la transformamos vía logaritmo"
   ]
  },
  {
   "cell_type": "code",
   "execution_count": null,
   "metadata": {},
   "outputs": [],
   "source": [
    "trans_reg_df = reg_df.copy()\n",
    "trans_reg_df['log_duration'] = np.log(trans_reg_df['duration'])\n",
    "trans_reg_df = trans_reg_df.drop(['duration'], axis=1)"
   ]
  },
  {
   "cell_type": "code",
   "execution_count": null,
   "metadata": {},
   "outputs": [],
   "source": [
    "for c in ['balance', 'log_duration']:\n",
    "    sns.distplot(trans_reg_df[c])\n",
    "    plt.show()"
   ]
  },
  {
   "cell_type": "markdown",
   "metadata": {},
   "source": [
    "## Exportar datos"
   ]
  },
  {
   "cell_type": "code",
   "execution_count": null,
   "metadata": {},
   "outputs": [],
   "source": [
    "trans_reg_df.to_csv('trans_bank_marketing_codes.csv', index=False)"
   ]
  },
  {
   "cell_type": "raw",
   "metadata": {},
   "source": [
    "with pd.HDFStore('bank_marketing', 'w') as hdf_store:\n",
    "\n",
    "    trans_reg_df.to_hdf(hdf_store, 'trans_df', index=False, format='table')"
   ]
  },
  {
   "cell_type": "code",
   "execution_count": null,
   "metadata": {},
   "outputs": [],
   "source": [
    "with open('trans_bank_marketing_codes-dtype.pk', 'wb') as file:\n",
    "    pk.dump(trans_reg_df.dtypes.to_dict(), file)"
   ]
  },
  {
   "cell_type": "markdown",
   "metadata": {},
   "source": [
    "# Regresión logística con Scikit-Learn"
   ]
  },
  {
   "cell_type": "code",
   "execution_count": null,
   "metadata": {},
   "outputs": [],
   "source": [
    "X = trans_reg_df.loc[:, trans_reg_df.columns[trans_reg_df.columns != 'outcome']]\n",
    "y = trans_reg_df['outcome']\n",
    "X_train, X_test, y_train, y_test = train_test_split(X, y, test_size=0.25, random_state=42)"
   ]
  },
  {
   "cell_type": "code",
   "execution_count": null,
   "metadata": {},
   "outputs": [],
   "source": [
    "X_train.select_dtypes('bool')\n",
    "X_train.select_dtypes('bool').columns"
   ]
  },
  {
   "cell_type": "code",
   "execution_count": null,
   "metadata": {},
   "outputs": [],
   "source": [
    "for cname, col in X_train.select_dtypes('int').iteritems():\n",
    "    if cname != 'balance':\n",
    "        display(col.value_counts())"
   ]
  },
  {
   "cell_type": "code",
   "execution_count": null,
   "metadata": {},
   "outputs": [],
   "source": [
    "from sklearn.pipeline import Pipeline\n",
    "from sklearn.compose import ColumnTransformer\n",
    "from sklearn.preprocessing import StandardScaler, MinMaxScaler, OneHotEncoder"
   ]
  },
  {
   "cell_type": "code",
   "execution_count": null,
   "metadata": {},
   "outputs": [],
   "source": [
    "trans_reg_df.info()"
   ]
  },
  {
   "cell_type": "code",
   "execution_count": null,
   "metadata": {},
   "outputs": [],
   "source": [
    "int_cols = X_train.select_dtypes('int').columns.tolist()\n",
    "float_cols = X_train.select_dtypes('float').columns.tolist()\n",
    "bool_cols = X_train.select_dtypes('bool').columns.tolist()\n",
    "one_hot_cols = X_train.select_dtypes('category').columns.tolist() + \\\n",
    "    X_train.select_dtypes('int8').columns.tolist()\n",
    "\n",
    "transformer_list = [\n",
    "    ('continuous_std', StandardScaler(), float_cols),\n",
    "    ('minmax', MinMaxScaler(), int_cols),\n",
    "    ('passthrough_bool', 'passthrough', bool_cols),\n",
    "    ('one_hot', OneHotEncoder(drop='first'), one_hot_cols)\n",
    "]\n",
    "\n",
    "cols_trans = ColumnTransformer(transformer_list)\n",
    "\n",
    "assert X.columns.isin(int_cols + float_cols + bool_cols + one_hot_cols).all(), \\\n",
    " 'No todas las columnas son consideradas en ColumnTransformer' "
   ]
  },
  {
   "cell_type": "code",
   "execution_count": null,
   "metadata": {},
   "outputs": [],
   "source": [
    "cols_trans.fit_transform(X_train)"
   ]
  },
  {
   "cell_type": "code",
   "execution_count": null,
   "metadata": {},
   "outputs": [],
   "source": [
    "from sklearn.linear_model import LogisticRegression\n",
    "lr_pipe = Pipeline([\n",
    "    ('ct', cols_trans),\n",
    "    ('lr', LogisticRegression())\n",
    "])"
   ]
  },
  {
   "cell_type": "code",
   "execution_count": null,
   "metadata": {},
   "outputs": [],
   "source": [
    "lr_pipe.fit(X_train, y_train)"
   ]
  },
  {
   "cell_type": "code",
   "execution_count": null,
   "metadata": {},
   "outputs": [],
   "source": [
    "lr_pipe.score(X_test, y_test)"
   ]
  },
  {
   "cell_type": "code",
   "execution_count": null,
   "metadata": {},
   "outputs": [],
   "source": [
    "preds = lr_pipe.predict(X_test)"
   ]
  },
  {
   "cell_type": "code",
   "execution_count": null,
   "metadata": {},
   "outputs": [],
   "source": [
    "print('Accuracy of the full model: ', accuracy_score(preds, y_test))\n",
    "print('f1 score of the full model: ', f1_score(preds, y_test))"
   ]
  },
  {
   "cell_type": "code",
   "execution_count": null,
   "metadata": {},
   "outputs": [],
   "source": [
    "w_inicial = np.concatenate((lr_pipe[-1].intercept_, lr_pipe[-1].coef_.flatten()))\n",
    "w_inicial"
   ]
  },
  {
   "cell_type": "code",
   "execution_count": null,
   "metadata": {},
   "outputs": [],
   "source": [
    "np.save('optimo_sklearn', w_inicial)"
   ]
  }
 ],
 "metadata": {
  "kernelspec": {
   "display_name": "Python 3",
   "language": "python",
   "name": "python3"
  },
  "language_info": {
   "codemirror_mode": {
    "name": "ipython",
    "version": 3
   },
   "file_extension": ".py",
   "mimetype": "text/x-python",
   "name": "python",
   "nbconvert_exporter": "python",
   "pygments_lexer": "ipython3",
   "version": "3.8.3"
  },
  "nbTranslate": {
   "displayLangs": [
    "en",
    "es"
   ],
   "hotkey": "alt-t",
   "langInMainMenu": true,
   "sourceLang": "en",
   "targetLang": "es",
   "useGoogleTranslate": true
  },
  "toc": {
   "base_numbering": 1,
   "nav_menu": {},
   "number_sections": true,
   "sideBar": true,
   "skip_h1_title": false,
   "title_cell": "Table of Contents",
   "title_sidebar": "Contents",
   "toc_cell": false,
   "toc_position": {},
   "toc_section_display": true,
   "toc_window_display": true
  }
 },
 "nbformat": 4,
 "nbformat_minor": 2
}
